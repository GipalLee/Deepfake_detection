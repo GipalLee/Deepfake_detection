{
  "nbformat": 4,
  "nbformat_minor": 0,
  "metadata": {
    "colab": {
      "name": "deepfake",
      "provenance": [],
      "include_colab_link": true
    },
    "kernelspec": {
      "name": "python3",
      "display_name": "Python 3"
    }
  },
  "cells": [
    {
      "cell_type": "markdown",
      "metadata": {
        "id": "view-in-github",
        "colab_type": "text"
      },
      "source": [
        "<a href=\"https://colab.research.google.com/github/comb0601/deepfake/blob/master/deepfake.ipynb\" target=\"_parent\"><img src=\"https://colab.research.google.com/assets/colab-badge.svg\" alt=\"Open In Colab\"/></a>"
      ]
    },
    {
      "cell_type": "code",
      "metadata": {
        "id": "nQxoH1dTqveo"
      },
      "source": [
        "import os\n",
        "import glob\n",
        "import cv2\n",
        "import numpy as np\n",
        "from sklearn.cluster import KMeans\n",
        "import matplotlib.pyplot as plt\n",
        "from skimage import measure\n"
      ],
      "execution_count": 22,
      "outputs": []
    },
    {
      "cell_type": "code",
      "metadata": {
        "id": "Y2uxfGk6qvaM"
      },
      "source": [
        "#TEST_PATH = '/content/'\n",
        "TRAIN_PATH = '/content/'\n",
        "\n",
        "#metadata = '../input/deepfake-detection-challenge/train_sample_videos/metadata.json'"
      ],
      "execution_count": 2,
      "outputs": []
    },
    {
      "cell_type": "code",
      "metadata": {
        "id": "gFuafGSNqvW1",
        "colab": {
          "base_uri": "https://localhost:8080/"
        },
        "outputId": "6d774917-492a-4429-b6fa-6758205d3bd2"
      },
      "source": [
        "# load the filenames for train videos\n",
        "train_fns = sorted(glob.glob(TRAIN_PATH + '*.mp4'))\n",
        "\n",
        "# load the filenames for test videos\n",
        "#test_fns = sorted(glob.glob(TEST_PATH + '*.mp4'))\n",
        "\n",
        "print('There are {} samples in the train set.'.format(len(train_fns)))\n",
        "#print('There are {} samples in the test set.'.format(len(test_fns)))"
      ],
      "execution_count": 3,
      "outputs": [
        {
          "output_type": "stream",
          "text": [
            "There are 2 samples in the train set.\n"
          ],
          "name": "stdout"
        }
      ]
    },
    {
      "cell_type": "code",
      "metadata": {
        "id": "blTehhxFqvUr"
      },
      "source": [
        "def get_frames(filename):\n",
        "    '''\n",
        "    Get all frames from the video\n",
        "    INPUT:\n",
        "        filename - video filename\n",
        "    OUTPUT:\n",
        "        frames - the array of video frames\n",
        "    '''\n",
        "    frames = []\n",
        "    cap = cv2.VideoCapture(filename)\n",
        "\n",
        "    #while(cap.isOpened()):\n",
        "    while len(frames) < 300 :\n",
        "        ret, frame = cap.read()\n",
        "                \n",
        "        if not ret:\n",
        "            break;\n",
        "            \n",
        "        image = cv2.cvtColor(frame, cv2.COLOR_BGR2RGB)\n",
        "        frames.append(image)\n",
        "\n",
        "    cap.release()\n",
        "    cv2.destroyAllWindows()\n",
        "    return frames\n",
        "\n"
      ],
      "execution_count": 5,
      "outputs": []
    },
    {
      "cell_type": "code",
      "metadata": {
        "id": "SVp5nuBOqvSG"
      },
      "source": [
        "frames = get_frames(train_fns[0])\n"
      ],
      "execution_count": 6,
      "outputs": []
    },
    {
      "cell_type": "code",
      "metadata": {
        "id": "4BM4gCSHqvPr",
        "colab": {
          "base_uri": "https://localhost:8080/"
        },
        "outputId": "35e36bc4-00b3-4ecc-bdab-da931170a867"
      },
      "source": [
        "np.shape(frames)"
      ],
      "execution_count": 7,
      "outputs": [
        {
          "output_type": "execute_result",
          "data": {
            "text/plain": [
              "(300, 1080, 1920, 3)"
            ]
          },
          "metadata": {
            "tags": []
          },
          "execution_count": 7
        }
      ]
    },
    {
      "cell_type": "code",
      "metadata": {
        "id": "zpiUq5gQ0kkH"
      },
      "source": [
        "output = open('result_org.csv', 'w')\n",
        "output.write('r,g,b\\n')\n",
        "\n",
        "for i in range(len(frames)) :\n",
        "  image = frames[i]\n",
        "  image = cv2.cvtColor(image, cv2.COLOR_BGR2RGB) #RGB 형태로 변환\n",
        "  image = image.reshape((image.shape[0] * image.shape[1], 3))\n",
        "  k = 1 \n",
        "  clt = KMeans(n_clusters = k)\n",
        "  clt.fit(image)\n",
        "  for center in clt.cluster_centers_:\n",
        "    print(center)\n",
        "    output.write(str(center[0]) + ',' + str(center[1]) + ',' + str(center[2]) + '\\n')"
      ],
      "execution_count": null,
      "outputs": []
    },
    {
      "cell_type": "code",
      "metadata": {
        "id": "4r80Rc4xcEne"
      },
      "source": [
        "output = open('result_org.csv', 'w')\n",
        "output.write('r,g,b\\n')\n",
        "\n",
        "for i in range(len(frames)) :\n",
        "  image = frames[i]\n",
        "  image = cv2.cvtColor(image, cv2.COLOR_BGR2HSV) #HSV 형태로 변환\n",
        "  image = image.reshape((image.shape[0] * image.shape[1], 3))\n",
        "  k = 1 \n",
        "  clt = KMeans(n_clusters = k)\n",
        "  clt.fit(image)\n",
        "  for center in clt.cluster_centers_:\n",
        "    print(center)\n",
        "    output.write(str(center[0]) + ',' + str(center[1]) + ',' + str(center[2]) + '\\n')"
      ],
      "execution_count": null,
      "outputs": []
    },
    {
      "cell_type": "code",
      "metadata": {
        "id": "gPfmgjPjGLZV"
      },
      "source": [
        "def get_image_difference(image_1, image_2):  # 히스토그램 차이\n",
        "    first_image_hist = cv2.calcHist([image_1], [0], None, [256], [0, 256])\n",
        "    second_image_hist = cv2.calcHist([image_2], [0], None, [256], [0, 256])\n",
        "\n",
        "    img_hist_diff = cv2.compareHist(first_image_hist, second_image_hist, cv2.HISTCMP_BHATTACHARYYA)\n",
        "    img_template_probability_match = cv2.matchTemplate(first_image_hist, second_image_hist, cv2.TM_CCOEFF_NORMED)[0][0]\n",
        "    img_template_diff = 1 - img_template_probability_match\n",
        "\n",
        "    # taking only 10% of histogram diff, since it's less accurate than template method\n",
        "    commutative_image_diff = (img_hist_diff / 10) + img_template_diff\n",
        "    return commutative_image_diff"
      ],
      "execution_count": 25,
      "outputs": []
    },
    {
      "cell_type": "code",
      "metadata": {
        "id": "6-Ajhfu2xJIX",
        "colab": {
          "base_uri": "https://localhost:8080/",
          "height": 635
        },
        "outputId": "95c62c5d-b852-43ec-ea16-b78b18c079ab"
      },
      "source": [
        "for i in range(len(frames)-1) :  #PSNR 값\n",
        "  img1 = frames[i] # 첫 프레임\n",
        "  img2 = frames[i+1] #다음 프레임\n",
        "  \n",
        "  mse = np.sum((img1.astype(\"float\") - img2.astype(\"float\")) ** 2) #MSE\n",
        "  mse /= float(img1.shape[0] * img1.shape[1])\n",
        "\n",
        "  psnr = cv2.PSNR(img1, img2) # 프레임 간 PSNR값\n",
        "\n",
        "  ssim = measure.compare_ssim(img1, img2,multichannel=True) # SSIM 멀티채널 오픈필요\n",
        "  \n",
        "  histogram_diff = get_image_difference(img1,img2) # 프레임간 히스토그램 차이\n",
        "  print(histogram_diff)\n"
      ],
      "execution_count": 26,
      "outputs": [
        {
          "output_type": "stream",
          "text": [
            "/usr/local/lib/python3.6/dist-packages/ipykernel_launcher.py:13: UserWarning: DEPRECATED: skimage.measure.compare_ssim has been moved to skimage.metrics.structural_similarity. It will be removed from skimage.measure in version 0.18.\n",
            "  del sys.path[0]\n"
          ],
          "name": "stderr"
        },
        {
          "output_type": "stream",
          "text": [
            "0.0010592133981417572\n",
            "0.008145961128728412\n",
            "0.005687105281390949\n",
            "0.00993803956783067\n",
            "0.006963355964831922\n",
            "0.006859912327959773\n",
            "0.006393335465449123\n",
            "0.005587473978170647\n",
            "0.009004207236039436\n"
          ],
          "name": "stdout"
        },
        {
          "output_type": "error",
          "ename": "KeyboardInterrupt",
          "evalue": "ignored",
          "traceback": [
            "\u001b[0;31m---------------------------------------------------------------------------\u001b[0m",
            "\u001b[0;31mKeyboardInterrupt\u001b[0m                         Traceback (most recent call last)",
            "\u001b[0;32m<ipython-input-26-3673320702b2>\u001b[0m in \u001b[0;36m<module>\u001b[0;34m()\u001b[0m\n\u001b[1;32m     11\u001b[0m   \u001b[0mpsnr\u001b[0m \u001b[0;34m=\u001b[0m \u001b[0mcv2\u001b[0m\u001b[0;34m.\u001b[0m\u001b[0mPSNR\u001b[0m\u001b[0;34m(\u001b[0m\u001b[0mimg1\u001b[0m\u001b[0;34m,\u001b[0m \u001b[0mimg2\u001b[0m\u001b[0;34m)\u001b[0m \u001b[0;31m# 프레임 간 PSNR값\u001b[0m\u001b[0;34m\u001b[0m\u001b[0;34m\u001b[0m\u001b[0m\n\u001b[1;32m     12\u001b[0m \u001b[0;34m\u001b[0m\u001b[0m\n\u001b[0;32m---> 13\u001b[0;31m   \u001b[0mssim\u001b[0m \u001b[0;34m=\u001b[0m \u001b[0mmeasure\u001b[0m\u001b[0;34m.\u001b[0m\u001b[0mcompare_ssim\u001b[0m\u001b[0;34m(\u001b[0m\u001b[0mimg1\u001b[0m\u001b[0;34m,\u001b[0m \u001b[0mimg2\u001b[0m\u001b[0;34m,\u001b[0m\u001b[0mmultichannel\u001b[0m\u001b[0;34m=\u001b[0m\u001b[0;32mTrue\u001b[0m\u001b[0;34m)\u001b[0m \u001b[0;31m# SSIM 멀티채널 오픈필요\u001b[0m\u001b[0;34m\u001b[0m\u001b[0;34m\u001b[0m\u001b[0m\n\u001b[0m\u001b[1;32m     14\u001b[0m \u001b[0;34m\u001b[0m\u001b[0m\n\u001b[1;32m     15\u001b[0m   \u001b[0mhistogram_diff\u001b[0m \u001b[0;34m=\u001b[0m \u001b[0mget_image_difference\u001b[0m\u001b[0;34m(\u001b[0m\u001b[0mimg1\u001b[0m\u001b[0;34m,\u001b[0m\u001b[0mimg2\u001b[0m\u001b[0;34m)\u001b[0m\u001b[0;34m\u001b[0m\u001b[0;34m\u001b[0m\u001b[0m\n",
            "\u001b[0;32m/usr/local/lib/python3.6/dist-packages/skimage/measure/_structural_similarity.py\u001b[0m in \u001b[0;36mcompare_ssim\u001b[0;34m(X, Y, win_size, gradient, data_range, multichannel, gaussian_weights, full, **kwargs)\u001b[0m\n\u001b[1;32m     15\u001b[0m                                  \u001b[0mmultichannel\u001b[0m\u001b[0;34m=\u001b[0m\u001b[0mmultichannel\u001b[0m\u001b[0;34m,\u001b[0m\u001b[0;34m\u001b[0m\u001b[0;34m\u001b[0m\u001b[0m\n\u001b[1;32m     16\u001b[0m                                  \u001b[0mgaussian_weights\u001b[0m\u001b[0;34m=\u001b[0m\u001b[0mgaussian_weights\u001b[0m\u001b[0;34m,\u001b[0m \u001b[0mfull\u001b[0m\u001b[0;34m=\u001b[0m\u001b[0mfull\u001b[0m\u001b[0;34m,\u001b[0m\u001b[0;34m\u001b[0m\u001b[0;34m\u001b[0m\u001b[0m\n\u001b[0;32m---> 17\u001b[0;31m                                  **kwargs)\n\u001b[0m\u001b[1;32m     18\u001b[0m \u001b[0;34m\u001b[0m\u001b[0m\n\u001b[1;32m     19\u001b[0m \u001b[0;34m\u001b[0m\u001b[0m\n",
            "\u001b[0;32m/usr/local/lib/python3.6/dist-packages/skimage/metrics/_structural_similarity.py\u001b[0m in \u001b[0;36mstructural_similarity\u001b[0;34m(im1, im2, win_size, gradient, data_range, multichannel, gaussian_weights, full, **kwargs)\u001b[0m\n\u001b[1;32m    106\u001b[0m         \u001b[0;32mfor\u001b[0m \u001b[0mch\u001b[0m \u001b[0;32min\u001b[0m \u001b[0mrange\u001b[0m\u001b[0;34m(\u001b[0m\u001b[0mnch\u001b[0m\u001b[0;34m)\u001b[0m\u001b[0;34m:\u001b[0m\u001b[0;34m\u001b[0m\u001b[0;34m\u001b[0m\u001b[0m\n\u001b[1;32m    107\u001b[0m             ch_result = structural_similarity(im1[..., ch],\n\u001b[0;32m--> 108\u001b[0;31m                                               im2[..., ch], **args)\n\u001b[0m\u001b[1;32m    109\u001b[0m             \u001b[0;32mif\u001b[0m \u001b[0mgradient\u001b[0m \u001b[0;32mand\u001b[0m \u001b[0mfull\u001b[0m\u001b[0;34m:\u001b[0m\u001b[0;34m\u001b[0m\u001b[0;34m\u001b[0m\u001b[0m\n\u001b[1;32m    110\u001b[0m                 \u001b[0mmssim\u001b[0m\u001b[0;34m[\u001b[0m\u001b[0;34m...\u001b[0m\u001b[0;34m,\u001b[0m \u001b[0mch\u001b[0m\u001b[0;34m]\u001b[0m\u001b[0;34m,\u001b[0m \u001b[0mG\u001b[0m\u001b[0;34m[\u001b[0m\u001b[0;34m...\u001b[0m\u001b[0;34m,\u001b[0m \u001b[0mch\u001b[0m\u001b[0;34m]\u001b[0m\u001b[0;34m,\u001b[0m \u001b[0mS\u001b[0m\u001b[0;34m[\u001b[0m\u001b[0;34m...\u001b[0m\u001b[0;34m,\u001b[0m \u001b[0mch\u001b[0m\u001b[0;34m]\u001b[0m \u001b[0;34m=\u001b[0m \u001b[0mch_result\u001b[0m\u001b[0;34m\u001b[0m\u001b[0;34m\u001b[0m\u001b[0m\n",
            "\u001b[0;32m/usr/local/lib/python3.6/dist-packages/skimage/metrics/_structural_similarity.py\u001b[0m in \u001b[0;36mstructural_similarity\u001b[0;34m(im1, im2, win_size, gradient, data_range, multichannel, gaussian_weights, full, **kwargs)\u001b[0m\n\u001b[1;32m    191\u001b[0m     \u001b[0;31m# compute (weighted) variances and covariances\u001b[0m\u001b[0;34m\u001b[0m\u001b[0;34m\u001b[0m\u001b[0;34m\u001b[0m\u001b[0m\n\u001b[1;32m    192\u001b[0m     \u001b[0muxx\u001b[0m \u001b[0;34m=\u001b[0m \u001b[0mfilter_func\u001b[0m\u001b[0;34m(\u001b[0m\u001b[0mim1\u001b[0m \u001b[0;34m*\u001b[0m \u001b[0mim1\u001b[0m\u001b[0;34m,\u001b[0m \u001b[0;34m**\u001b[0m\u001b[0mfilter_args\u001b[0m\u001b[0;34m)\u001b[0m\u001b[0;34m\u001b[0m\u001b[0;34m\u001b[0m\u001b[0m\n\u001b[0;32m--> 193\u001b[0;31m     \u001b[0muyy\u001b[0m \u001b[0;34m=\u001b[0m \u001b[0mfilter_func\u001b[0m\u001b[0;34m(\u001b[0m\u001b[0mim2\u001b[0m \u001b[0;34m*\u001b[0m \u001b[0mim2\u001b[0m\u001b[0;34m,\u001b[0m \u001b[0;34m**\u001b[0m\u001b[0mfilter_args\u001b[0m\u001b[0;34m)\u001b[0m\u001b[0;34m\u001b[0m\u001b[0;34m\u001b[0m\u001b[0m\n\u001b[0m\u001b[1;32m    194\u001b[0m     \u001b[0muxy\u001b[0m \u001b[0;34m=\u001b[0m \u001b[0mfilter_func\u001b[0m\u001b[0;34m(\u001b[0m\u001b[0mim1\u001b[0m \u001b[0;34m*\u001b[0m \u001b[0mim2\u001b[0m\u001b[0;34m,\u001b[0m \u001b[0;34m**\u001b[0m\u001b[0mfilter_args\u001b[0m\u001b[0;34m)\u001b[0m\u001b[0;34m\u001b[0m\u001b[0;34m\u001b[0m\u001b[0m\n\u001b[1;32m    195\u001b[0m     \u001b[0mvx\u001b[0m \u001b[0;34m=\u001b[0m \u001b[0mcov_norm\u001b[0m \u001b[0;34m*\u001b[0m \u001b[0;34m(\u001b[0m\u001b[0muxx\u001b[0m \u001b[0;34m-\u001b[0m \u001b[0mux\u001b[0m \u001b[0;34m*\u001b[0m \u001b[0mux\u001b[0m\u001b[0;34m)\u001b[0m\u001b[0;34m\u001b[0m\u001b[0;34m\u001b[0m\u001b[0m\n",
            "\u001b[0;32m/usr/local/lib/python3.6/dist-packages/scipy/ndimage/filters.py\u001b[0m in \u001b[0;36muniform_filter\u001b[0;34m(input, size, output, mode, cval, origin)\u001b[0m\n\u001b[1;32m    851\u001b[0m         \u001b[0;32mfor\u001b[0m \u001b[0maxis\u001b[0m\u001b[0;34m,\u001b[0m \u001b[0msize\u001b[0m\u001b[0;34m,\u001b[0m \u001b[0morigin\u001b[0m\u001b[0;34m,\u001b[0m \u001b[0mmode\u001b[0m \u001b[0;32min\u001b[0m \u001b[0maxes\u001b[0m\u001b[0;34m:\u001b[0m\u001b[0;34m\u001b[0m\u001b[0;34m\u001b[0m\u001b[0m\n\u001b[1;32m    852\u001b[0m             uniform_filter1d(input, int(size), axis, output, mode,\n\u001b[0;32m--> 853\u001b[0;31m                              cval, origin)\n\u001b[0m\u001b[1;32m    854\u001b[0m             \u001b[0minput\u001b[0m \u001b[0;34m=\u001b[0m \u001b[0moutput\u001b[0m\u001b[0;34m\u001b[0m\u001b[0;34m\u001b[0m\u001b[0m\n\u001b[1;32m    855\u001b[0m     \u001b[0;32melse\u001b[0m\u001b[0;34m:\u001b[0m\u001b[0;34m\u001b[0m\u001b[0;34m\u001b[0m\u001b[0m\n",
            "\u001b[0;32m/usr/local/lib/python3.6/dist-packages/scipy/ndimage/filters.py\u001b[0m in \u001b[0;36muniform_filter1d\u001b[0;34m(input, size, axis, output, mode, cval, origin)\u001b[0m\n\u001b[1;32m    792\u001b[0m     \u001b[0mmode\u001b[0m \u001b[0;34m=\u001b[0m \u001b[0m_ni_support\u001b[0m\u001b[0;34m.\u001b[0m\u001b[0m_extend_mode_to_code\u001b[0m\u001b[0;34m(\u001b[0m\u001b[0mmode\u001b[0m\u001b[0;34m)\u001b[0m\u001b[0;34m\u001b[0m\u001b[0;34m\u001b[0m\u001b[0m\n\u001b[1;32m    793\u001b[0m     _nd_image.uniform_filter1d(input, size, axis, output, mode, cval,\n\u001b[0;32m--> 794\u001b[0;31m                                origin)\n\u001b[0m\u001b[1;32m    795\u001b[0m     \u001b[0;32mreturn\u001b[0m \u001b[0moutput\u001b[0m\u001b[0;34m\u001b[0m\u001b[0;34m\u001b[0m\u001b[0m\n\u001b[1;32m    796\u001b[0m \u001b[0;34m\u001b[0m\u001b[0m\n",
            "\u001b[0;31mKeyboardInterrupt\u001b[0m: "
          ]
        }
      ]
    },
    {
      "cell_type": "code",
      "metadata": {
        "id": "vV9kntiPgi3A"
      },
      "source": [
        ""
      ],
      "execution_count": null,
      "outputs": []
    }
  ]
}